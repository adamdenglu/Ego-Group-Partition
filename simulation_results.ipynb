{
 "cells": [
  {
   "cell_type": "code",
   "execution_count": 3,
   "metadata": {},
   "outputs": [],
   "source": [
    "import pandas as pd\n",
    "import numpy as np\n",
    "from glob import glob"
   ]
  },
  {
   "cell_type": "code",
   "execution_count": 4,
   "metadata": {},
   "outputs": [],
   "source": [
    "def get_simulation_data(path_name):\n",
    "    records = []\n",
    "    for path in glob(path_name):\n",
    "        try:\n",
    "            results = np.load(path)\n",
    "            records.append(pd.DataFrame({\n",
    "                \"estimate\": results[\"est\"],\n",
    "                \"tau\": results[\"tau\"],\n",
    "                \"model\": results[\"model\"],\n",
    "                \"name\": results[\"name\"],\n",
    "            }))\n",
    "        except:\n",
    "            print(path)\n",
    "    df = pd.concat(records, ignore_index=True)\n",
    "    df.astype({'estimate': 'float', 'tau': 'float', \"model\": \"str\", \"name\": \"str\"}).dtypes\n",
    "    return df"
   ]
  },
  {
   "cell_type": "code",
   "execution_count": 5,
   "metadata": {},
   "outputs": [
    {
     "name": "stdout",
     "output_type": "stream",
     "text": [
      "\n",
      "model : linear\n",
      "                name  estimate\n",
      "0        ego_cluster -0.565834\n",
      "1    egp threshold 0 -0.416502\n",
      "2  egp threshold 0.2 -0.415968\n",
      "3  egp threshold 0.5 -0.430190\n",
      "\n",
      "model : convex\n",
      "                name  estimate\n",
      "0        ego_cluster -0.614578\n",
      "1    egp threshold 0 -0.463545\n",
      "2  egp threshold 0.2 -0.417967\n",
      "3  egp threshold 0.5 -0.380106\n"
     ]
    }
   ],
   "source": [
    "df = get_simulation_data(\"./results/*\")\n",
    "models = [\"linear\", \"convex\"]\n",
    "for model in models:\n",
    "    data = df[(df.model == model)].copy()\n",
    "    data[\"estimate\"] = data[\"estimate\"] - data.tau.mean()\n",
    "    print(f\"\\nmodel : {model}\")\n",
    "    print(data.groupby(\"name\", as_index=False).agg({\"estimate\": \"mean\"}))"
   ]
  },
  {
   "cell_type": "code",
   "execution_count": 37,
   "metadata": {},
   "outputs": [
    {
     "name": "stdout",
     "output_type": "stream",
     "text": [
      "\n",
      "model : linear\n",
      "                name  estimate\n",
      "0        ego_cluster -0.569601\n",
      "1    egp threshold 0 -0.412423\n",
      "2  egp threshold 0.2 -0.420946\n",
      "3  egp threshold 0.5 -0.430196\n",
      "\n",
      "model : convex\n",
      "                name  estimate\n",
      "0        ego_cluster -0.625472\n",
      "1    egp threshold 0 -0.464445\n",
      "2  egp threshold 0.2 -0.419867\n",
      "3  egp threshold 0.5 -0.371172\n"
     ]
    }
   ],
   "source": [
    "df = get_simulation_data(\"./results/*\")\n",
    "models = [\"linear\", \"convex\"]\n",
    "for model in models:\n",
    "    data = df[(df.model == model)].copy()\n",
    "    data[\"estimate\"] = data[\"estimate\"] - data.tau.mean()\n",
    "    print(f\"\\nmodel : {model}\")\n",
    "    print(data.groupby(\"name\", as_index=False).agg({\"estimate\": \"mean\"}))"
   ]
  }
 ],
 "metadata": {
  "kernelspec": {
   "display_name": "r-environment",
   "language": "python",
   "name": "python3"
  },
  "language_info": {
   "codemirror_mode": {
    "name": "ipython",
    "version": 3
   },
   "file_extension": ".py",
   "mimetype": "text/x-python",
   "name": "python",
   "nbconvert_exporter": "python",
   "pygments_lexer": "ipython3",
   "version": "3.8.12"
  }
 },
 "nbformat": 4,
 "nbformat_minor": 2
}
